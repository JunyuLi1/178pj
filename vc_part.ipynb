{
 "cells": [
  {
   "cell_type": "code",
   "execution_count": 11,
   "metadata": {},
   "outputs": [],
   "source": [
    "from ucimlrepo import fetch_ucirepo\n",
    "from sklearn.preprocessing import LabelEncoder\n",
    "import matplotlib.pyplot as plt\n",
    "from sklearn.preprocessing import StandardScaler\n",
    "from sklearn.linear_model import LogisticRegression\n",
    "from sklearn.linear_model import SGDClassifier\n",
    "from sklearn.model_selection import train_test_split\n",
    "from sklearn.inspection import DecisionBoundaryDisplay\n",
    "from sklearn.model_selection import GridSearchCV\n",
    "import sklearn.tree as tree\n",
    "import pandas as pd\n",
    "import numpy as np"
   ]
  },
  {
   "cell_type": "markdown",
   "metadata": {},
   "source": [
    "## Load the dataset"
   ]
  },
  {
   "cell_type": "code",
   "execution_count": 3,
   "metadata": {},
   "outputs": [
    {
     "name": "stdout",
     "output_type": "stream",
     "text": [
      "       age         workclass  fnlwgt  education  education-num  \\\n",
      "0       39         State-gov   77516  Bachelors             13   \n",
      "1       50  Self-emp-not-inc   83311  Bachelors             13   \n",
      "2       38           Private  215646    HS-grad              9   \n",
      "3       53           Private  234721       11th              7   \n",
      "4       28           Private  338409  Bachelors             13   \n",
      "...    ...               ...     ...        ...            ...   \n",
      "48837   39           Private  215419  Bachelors             13   \n",
      "48838   64               NaN  321403    HS-grad              9   \n",
      "48839   38           Private  374983  Bachelors             13   \n",
      "48840   44           Private   83891  Bachelors             13   \n",
      "48841   35      Self-emp-inc  182148  Bachelors             13   \n",
      "\n",
      "           marital-status         occupation    relationship  \\\n",
      "0           Never-married       Adm-clerical   Not-in-family   \n",
      "1      Married-civ-spouse    Exec-managerial         Husband   \n",
      "2                Divorced  Handlers-cleaners   Not-in-family   \n",
      "3      Married-civ-spouse  Handlers-cleaners         Husband   \n",
      "4      Married-civ-spouse     Prof-specialty            Wife   \n",
      "...                   ...                ...             ...   \n",
      "48837            Divorced     Prof-specialty   Not-in-family   \n",
      "48838             Widowed                NaN  Other-relative   \n",
      "48839  Married-civ-spouse     Prof-specialty         Husband   \n",
      "48840            Divorced       Adm-clerical       Own-child   \n",
      "48841  Married-civ-spouse    Exec-managerial         Husband   \n",
      "\n",
      "                     race     sex  capital-gain  capital-loss  hours-per-week  \\\n",
      "0                   White    Male          2174             0              40   \n",
      "1                   White    Male             0             0              13   \n",
      "2                   White    Male             0             0              40   \n",
      "3                   Black    Male             0             0              40   \n",
      "4                   Black  Female             0             0              40   \n",
      "...                   ...     ...           ...           ...             ...   \n",
      "48837               White  Female             0             0              36   \n",
      "48838               Black    Male             0             0              40   \n",
      "48839               White    Male             0             0              50   \n",
      "48840  Asian-Pac-Islander    Male          5455             0              40   \n",
      "48841               White    Male             0             0              60   \n",
      "\n",
      "      native-country  \n",
      "0      United-States  \n",
      "1      United-States  \n",
      "2      United-States  \n",
      "3      United-States  \n",
      "4               Cuba  \n",
      "...              ...  \n",
      "48837  United-States  \n",
      "48838  United-States  \n",
      "48839  United-States  \n",
      "48840  United-States  \n",
      "48841  United-States  \n",
      "\n",
      "[48842 rows x 14 columns]\n",
      "       income\n",
      "0       <=50K\n",
      "1       <=50K\n",
      "2       <=50K\n",
      "3       <=50K\n",
      "4       <=50K\n",
      "...       ...\n",
      "48837  <=50K.\n",
      "48838  <=50K.\n",
      "48839  <=50K.\n",
      "48840  <=50K.\n",
      "48841   >50K.\n",
      "\n",
      "[48842 rows x 1 columns]\n"
     ]
    }
   ],
   "source": [
    "adult = fetch_ucirepo(id=2)\n",
    "X_original = adult.data.features\n",
    "y_original = adult.data.targets\n",
    "print(X_original)\n",
    "print(y_original)"
   ]
  },
  {
   "cell_type": "markdown",
   "metadata": {},
   "source": [
    "## Part 1: age, hours-per-week, and income"
   ]
  },
  {
   "cell_type": "markdown",
   "metadata": {},
   "source": [
    "First, we need to extract age and work hours."
   ]
  },
  {
   "cell_type": "code",
   "execution_count": 4,
   "metadata": {},
   "outputs": [
    {
     "name": "stdout",
     "output_type": "stream",
     "text": [
      "[[39 40]\n",
      " [50 13]\n",
      " [38 40]\n",
      " ...\n",
      " [72 99]\n",
      " [54 44]\n",
      " [30 40]]\n",
      "[0 0 0 ... 0 1 1]\n"
     ]
    }
   ],
   "source": [
    "X_age = np.array(X_original)[:20000,0]\n",
    "X_wh = np.array(X_original)[:20000,12]\n",
    "X = np.column_stack((X_age, X_wh))\n",
    "print(X)\n",
    "y = np.array(y_original)[:20000]\n",
    "y_cleaned = np.array([label[0].replace('.', '') for label in y])\n",
    "encoder = LabelEncoder()\n",
    "y = encoder.fit_transform(y_cleaned)\n",
    "print(y)"
   ]
  },
  {
   "cell_type": "code",
   "execution_count": 5,
   "metadata": {},
   "outputs": [
    {
     "name": "stdout",
     "output_type": "stream",
     "text": [
      "[[ 0.02961142 -0.03230868]\n",
      " [ 0.83476689 -2.23128626]\n",
      " [-0.04358453 -0.03230868]\n",
      " ...\n",
      " [ 2.44507783  4.77286455]\n",
      " [ 1.1275507   0.29346577]\n",
      " [-0.62915214 -0.03230868]]\n",
      "[-1 -1 -1 ... -1  1  1]\n"
     ]
    }
   ],
   "source": [
    "X = pd.DataFrame(X)\n",
    "scaler = StandardScaler()\n",
    "X_scaled = scaler.fit_transform(X)\n",
    "y = 2*y - 1\n",
    "print(X_scaled)\n",
    "print(y)"
   ]
  },
  {
   "cell_type": "code",
   "execution_count": 6,
   "metadata": {},
   "outputs": [],
   "source": [
    "X_train, X_test, y_train, y_test = train_test_split(X_scaled, y, test_size=0.3, random_state=42)"
   ]
  },
  {
   "cell_type": "markdown",
   "metadata": {},
   "source": [
    "### Logistic Regression"
   ]
  },
  {
   "cell_type": "code",
   "execution_count": 179,
   "metadata": {},
   "outputs": [
    {
     "name": "stdout",
     "output_type": "stream",
     "text": [
      "best param: {'alpha': 0.01, 'eta0': 0.01, 'learning_rate': 'constant', 'max_iter': 1000}\n",
      "Accuracy: 0.7526666666666667\n"
     ]
    }
   ],
   "source": [
    "param_grid = {\n",
    "    'alpha': [0.0001, 0.001, 0.01],\n",
    "    'max_iter': [1000, 2000],\n",
    "    'eta0': [0.01, 0.1, 0.001],\n",
    "    'learning_rate': ['constant', 'adaptive'],\n",
    "}\n",
    "\n",
    "grid_search = GridSearchCV(SGDClassifier(loss='log_loss', random_state=42), param_grid, cv=5)\n",
    "grid_search.fit(X_train, y_train)\n",
    "print(\"best param:\", grid_search.best_params_)\n",
    "\n",
    "model2 = SGDClassifier(\n",
    "    loss='log_loss',\n",
    "    learning_rate=grid_search.best_params_['learning_rate'],\n",
    "    eta0=grid_search.best_params_['eta0'],\n",
    "    max_iter=grid_search.best_params_['max_iter'],\n",
    "    tol=0.1,\n",
    "    random_state=42,\n",
    "    alpha=grid_search.best_params_['alpha']\n",
    ")\n",
    "model2.fit(X_test, y_test)\n",
    "y_pred = model.predict(X_test)\n",
    "accuracy = accuracy_score(y_test, y_pred)\n",
    "print(\"Accuracy:\", accuracy)"
   ]
  },
  {
   "cell_type": "code",
   "execution_count": 180,
   "metadata": {},
   "outputs": [
    {
     "data": {
      "image/png": "[encoded data removed]",
      "text/plain": [
       "<Figure size 400x400 with 1 Axes>"
      ]
     },
     "metadata": {},
     "output_type": "display_data"
    }
   ],
   "source": [
    "plot_kwargs = {'cmap': 'jet',\n",
    "               'response_method': 'predict',\n",
    "               'plot_method': 'pcolormesh',\n",
    "               'shading': 'auto',\n",
    "               'alpha': 0.5,\n",
    "               'grid_resolution': 100}\n",
    "figure, axes = plt.subplots(1, 1, figsize=(4,4))\n",
    "DecisionBoundaryDisplay.from_estimator(model2, X_train, ax=axes, **plot_kwargs)\n",
    "axes.scatter(X_test[:, 0], X_test[:, 1], c=y_test, edgecolor=None, s=12, cmap='jet')\n",
    "plt.show()"
   ]
  },
  {
   "cell_type": "markdown",
   "metadata": {},
   "source": [
    "SVM"
   ]
  },
  {
   "cell_type": "code",
   "execution_count": null,
   "metadata": {},
   "outputs": [],
   "source": [
    "degrees=[1,2,5,20]\n",
    "figure,axes = plt.subplots(1,4,figsize=(12,3))\n",
    "\n",
    "for i,d in enumerate(degrees):\n",
    "    \n",
    "# Each item in the pipeline is a pair, (name, transform); the end is (name, learner):\n",
    "    learner = Pipeline( [('poly',PolynomialFeatures(degree=d)),\n",
    "                         ('scale',StandardScaler()), \n",
    "                         ('logreg',SGDClassifier(loss='log_loss',\n",
    "                                                 penalty='l2',alpha=1e-20,\n",
    "                                                 learning_rate='adaptive', eta0=1e-2,\n",
    "                                                 tol=0.,max_iter=100000,n_iter_no_change=1000))\n",
    "                        ])\n",
    "\n",
    "    ### YOUR CODE STARTS HERE\n",
    "    learner.fit(X_train,y)\n",
    "    # Fit the model\n",
    "    DecisionBoundaryDisplay.from_estimator(learner, X, **plot_kwargs, ax=axes[i])\n",
    "    axes[i].scatter(X_train[:, 0], X_train[:, 1], c=y, edgecolor=None, s=12, cmap='jet')\n",
    "    axes[i].set_title(f'{d} degree')"
   ]
  },
  {
   "cell_type": "markdown",
   "metadata": {},
   "source": [
    "## Part 2: race vs income"
   ]
  },
  {
   "cell_type": "markdown",
   "metadata": {},
   "source": [
    "### Sophisticated decision tree structures"
   ]
  },
  {
   "cell_type": "code",
   "execution_count": 7,
   "metadata": {},
   "outputs": [
    {
     "data": {
      "text/plain": [
       "array(['White', 'White', 'White', ..., 'White', 'White', 'White'],\n",
       "      dtype=object)"
      ]
     },
     "execution_count": 7,
     "metadata": {},
     "output_type": "execute_result"
    }
   ],
   "source": [
    "X_label = np.array(X_original)[:20000,8]\n",
    "X_label"
   ]
  },
  {
   "cell_type": "code",
   "execution_count": 9,
   "metadata": {},
   "outputs": [
    {
     "name": "stdout",
     "output_type": "stream",
     "text": [
      "[4 4 4 ... 4 4 4]\n"
     ]
    }
   ],
   "source": [
    "encoder = LabelEncoder()\n",
    "labels = encoder.fit_transform(X_label)\n",
    "print(labels)"
   ]
  },
  {
   "cell_type": "code",
   "execution_count": null,
   "metadata": {},
   "outputs": [],
   "source": [
    "X_train, X_test, y_train, y_test = train_test_split(labels, y, test_size=0.3, random_state=42)"
   ]
  },
  {
   "cell_type": "code",
   "execution_count": 14,
   "metadata": {},
   "outputs": [
    {
     "name": "stdout",
     "output_type": "stream",
     "text": [
      "Training Error Rate: 0.2001\n",
      "Validation Error Rate: 0.2470\n"
     ]
    }
   ],
   "source": [
    "\n",
    "dt = tree.DecisionTreeClassifier(max_depth=100, criterion='entropy', random_state=42)\n",
    "dt.fit(X_train, y_train)\n",
    "train_preds = dt.predict(X_train)\n",
    "val_preds = dt.predict(X_test)\n",
    "train_error = np.mean(y_train != train_preds)\n",
    "val_error = np.mean(y_test != val_preds)\n",
    "print(f\"Training Error Rate: {train_error:.4f}\")\n",
    "print(f\"Validation Error Rate: {val_error:.4f}\")"
   ]
  },
  {
   "cell_type": "code",
   "execution_count": 15,
   "metadata": {},
   "outputs": [
    {
     "ename": "AttributeError",
     "evalue": "'numpy.ndarray' object has no attribute 'columns'",
     "output_type": "error",
     "traceback": [
      "\u001b[1;31m---------------------------------------------------------------------------\u001b[0m",
      "\u001b[1;31mAttributeError\u001b[0m                            Traceback (most recent call last)",
      "Cell \u001b[1;32mIn[15], line 1\u001b[0m\n\u001b[1;32m----> 1\u001b[0m tree\u001b[38;5;241m.\u001b[39mplot_tree(dt, feature_names\u001b[38;5;241m=\u001b[39m\u001b[43mX_label\u001b[49m\u001b[38;5;241;43m.\u001b[39;49m\u001b[43mcolumns\u001b[49m, class_names\u001b[38;5;241m=\u001b[39m[\u001b[38;5;124m'\u001b[39m\u001b[38;5;124m<=50K\u001b[39m\u001b[38;5;124m'\u001b[39m, \u001b[38;5;124m'\u001b[39m\u001b[38;5;124m>50K\u001b[39m\u001b[38;5;124m'\u001b[39m], filled\u001b[38;5;241m=\u001b[39m\u001b[38;5;28;01mTrue\u001b[39;00m)\n",
      "\u001b[1;31mAttributeError\u001b[0m: 'numpy.ndarray' object has no attribute 'columns'"
     ]
    }
   ],
   "source": [
    "tree.plot_tree(dt, feature_names=X_label.columns, class_names=['<=50K', '>50K'], filled=True)"
   ]
  },
  {
   "cell_type": "code",
   "execution_count": null,
   "metadata": {},
   "outputs": [],
   "source": []
  }
 ],
 "metadata": {
  "kernelspec": {
   "display_name": "Python 3 (ipykernel)",
   "language": "python",
   "name": "python3"
  },
  "language_info": {
   "codemirror_mode": {
    "name": "ipython",
    "version": 3
   },
   "file_extension": ".py",
   "mimetype": "text/x-python",
   "name": "python",
   "nbconvert_exporter": "python",
   "pygments_lexer": "ipython3",
   "version": "3.10.15"
  }
 },
 "nbformat": 4,
 "nbformat_minor": 4
}
